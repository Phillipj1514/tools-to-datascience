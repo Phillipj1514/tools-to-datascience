{
 "cells": [
  {
   "attachments": {},
   "cell_type": "markdown",
   "metadata": {},
   "source": [
    "# Tools to Data Sceince"
   ]
  },
  {
   "attachments": {},
   "cell_type": "markdown",
   "metadata": {},
   "source": [
    "In this data science peer project, we will explore essential tools used in the field. Jupyter Notebook offers an interactive environment for code, visualizations, and explanations. RStudio provides a powerful IDE for R programming, enabling data analysis and visualization. Git and GitHub facilitate collaboration and version control. Libraries like Pandas, NumPy, and Scikit-learn enhance data manipulation and machine learning capabilities. Through hands-on experience with these tools, we will strengthen our data science skills and gain insights into real-world applications. Join us on this journey to unlock the potential of data and drive impactful data-driven solutions"
   ]
  },
  {
   "attachments": {},
   "cell_type": "markdown",
   "metadata": {},
   "source": [
    "data sceince languages\n",
    "- python\n",
    "- r\n",
    "- c\n",
    "- c++"
   ]
  },
  {
   "attachments": {},
   "cell_type": "markdown",
   "metadata": {},
   "source": [
    "Data Science libraries\n",
    "- Pandas\n",
    "- NumPy\n",
    "- Scikit-learn\n",
    "- TensorFlow\n",
    "- Keras\n",
    "- PyTorch\n",
    "- Matplotlib\n",
    "- Seaborn\n",
    "- Plotly\n",
    "- NLTK (Natural Language Toolkit)\n"
   ]
  },
  {
   "attachments": {},
   "cell_type": "markdown",
   "metadata": {},
   "source": [
    "Data science tools\n",
    "| Tool            | Description                                |\n",
    "|-----------------|--------------------------------------------|\n",
    "| Pandas          | Data manipulation and analysis in Python    |\n",
    "| NumPy           | Numerical computing in Python               |\n",
    "| Scikit-learn    | Machine learning library in Python         |\n",
    "| TensorFlow      | Deep learning framework by Google           |\n",
    "| Keras           | Deep learning library for Python            |\n",
    "| PyTorch         | Deep learning framework by Facebook         |\n",
    "| Matplotlib      | Data visualization library in Python        |\n",
    "| Seaborn         | Statistical data visualization in Python    |\n",
    "| Plotly          | Interactive and web-based visualizations    |\n",
    "| NLTK            | Natural language processing toolkit in Python |\n"
   ]
  },
  {
   "attachments": {},
   "cell_type": "markdown",
   "metadata": {},
   "source": [
    "## Arithmetic Expression Examples\n",
    "\n",
    "In this section, we will explore some basic arithmetic operations using Python code. Python provides built-in operators for performing arithmetic calculations.\n",
    "\n",
    "### Addition\n",
    "\n",
    "The addition operator `+` is used to add two numbers together. Here's an example:\n",
    "\n",
    "```python\n",
    "a = 5\n",
    "b = 3\n",
    "result = a + b\n",
    "print(result)  # Output: 8\n"
   ]
  },
  {
   "cell_type": "code",
   "execution_count": 14,
   "metadata": {},
   "outputs": [
    {
     "name": "stdout",
     "output_type": "stream",
     "text": [
      "3\n"
     ]
    }
   ],
   "source": [
    "x = 10\n",
    "y = 7\n",
    "result = x - y\n",
    "print(result)  # Output: 3"
   ]
  },
  {
   "cell_type": "code",
   "execution_count": 1,
   "metadata": {},
   "outputs": [
    {
     "data": {
      "text/plain": [
       "3"
      ]
     },
     "execution_count": 1,
     "metadata": {},
     "output_type": "execute_result"
    }
   ],
   "source": [
    "1*1+2"
   ]
  },
  {
   "cell_type": "code",
   "execution_count": 3,
   "metadata": {},
   "outputs": [
    {
     "name": "stdout",
     "output_type": "stream",
     "text": [
      "Minutes: 150\n",
      "Hours: 2.5\n"
     ]
    }
   ],
   "source": [
    "# Convert minutes to hours\n",
    "minutes = 150\n",
    "hours = minutes / 60\n",
    "\n",
    "print(\"Minutes:\", minutes)\n",
    "print(\"Hours:\", hours)\n"
   ]
  },
  {
   "attachments": {},
   "cell_type": "markdown",
   "metadata": {},
   "source": [
    "**Objectives:**\n",
    "\n",
    "1. Exercise 2 - Create a markdown cell with the title of the notebook. (1 pt)\n",
    "2. Exercise 3 - Create a markdown cell for an introduction. (1 pt)\n",
    "3. Exercise 4 - Create a markdown cell to list data science languages. (3 pts)\n",
    "4. Exercise 5 - Create a markdown cell to list data science libraries. (3 pts)\n",
    "5. Exercise 6 - Create a markdown cell with a table of Data Science tools. (3 pts)\n",
    "6. Exercise 7 - Create a markdown cell introducing arithmetic expression examples. (1 pt)\n",
    "7. Exercise 8 - Create a code cell to multiply and add numbers. (2 pts)\n",
    "8. Exercise 9 - Create a code cell to convert minutes to hours. (2 pts)\n"
   ]
  },
  {
   "attachments": {},
   "cell_type": "markdown",
   "metadata": {},
   "source": [
    "Author : Phillip"
   ]
  }
 ],
 "metadata": {
  "kernelspec": {
   "display_name": "Python 3",
   "language": "python",
   "name": "python3"
  },
  "language_info": {
   "codemirror_mode": {
    "name": "ipython",
    "version": 3
   },
   "file_extension": ".py",
   "mimetype": "text/x-python",
   "name": "python",
   "nbconvert_exporter": "python",
   "pygments_lexer": "ipython3",
   "version": "3.11.1"
  },
  "orig_nbformat": 4
 },
 "nbformat": 4,
 "nbformat_minor": 2
}
